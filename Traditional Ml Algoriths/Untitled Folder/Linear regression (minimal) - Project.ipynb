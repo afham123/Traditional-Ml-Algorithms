{
 "cells": [
  {
   "cell_type": "markdown",
   "metadata": {},
   "source": [
    "## Simple linear regression, minimal example"
   ]
  },
  {
   "cell_type": "markdown",
   "metadata": {},
   "source": [
    "creating own simple linear regression model, not using any direct ml algorith code"
   ]
  },
  {
   "cell_type": "markdown",
   "metadata": {},
   "source": [
    "## Importing Libraries"
   ]
  },
  {
   "cell_type": "code",
   "execution_count": 1,
   "metadata": {},
   "outputs": [],
   "source": [
    "import numpy as np\n",
    "import pandas as pd\n",
    "import matplotlib.pyplot as plt\n",
    "import seaborn as sns\n",
    "#from mplt_toolkits.mplot3d import Axes3D\n",
    "%matplotlib inline"
   ]
  },
  {
   "cell_type": "markdown",
   "metadata": {},
   "source": [
    "## Generating random input data to train on"
   ]
  },
  {
   "cell_type": "code",
   "execution_count": 2,
   "metadata": {},
   "outputs": [
    {
     "name": "stdout",
     "output_type": "stream",
     "text": [
      "(1000, 2)\n"
     ]
    }
   ],
   "source": [
    "observation=1000\n",
    "xs=np.random.uniform(low=-10,high=10,size=(observation,1))\n",
    "zs=np.random.uniform(low=-10,high=10,size=(observation,1))\n",
    "\n",
    "inputs=np.column_stack((xs,zs))\n",
    "\n",
    "print(inputs.shape)"
   ]
  },
  {
   "cell_type": "markdown",
   "metadata": {},
   "source": [
    "## Creat the targets we will aim at"
   ]
  },
  {
   "cell_type": "code",
   "execution_count": 3,
   "metadata": {},
   "outputs": [
    {
     "name": "stdout",
     "output_type": "stream",
     "text": [
      "(1000, 1)\n"
     ]
    }
   ],
   "source": [
    "noise=np.random.uniform(-10,10,(observation,1))\n",
    "\n",
    "target=2*xs-3*zs+5-noise\n",
    "\n",
    "print(target.shape)"
   ]
  },
  {
   "cell_type": "code",
   "execution_count": 9,
   "metadata": {},
   "outputs": [
    {
     "name": "stdout",
     "output_type": "stream",
     "text": [
      "[[ 0.00134201]\n",
      " [-0.09758191]]\n",
      "[-0.04049184]\n"
     ]
    }
   ],
   "source": [
    "init_range=0.1\n",
    "\n",
    "weight=np.random.uniform(-init_range,init_range,size=(2,1))\n",
    "\n",
    "baise=np.random.uniform(-init_range,init_range,size=1)\n",
    "\n",
    "print(weight)\n",
    "print(baise)"
   ]
  },
  {
   "cell_type": "markdown",
   "metadata": {},
   "source": [
    "## Set a learning rate"
   ]
  },
  {
   "cell_type": "code",
   "execution_count": 10,
   "metadata": {},
   "outputs": [],
   "source": [
    "learning_rate=0.02"
   ]
  },
  {
   "cell_type": "markdown",
   "metadata": {},
   "source": [
    "## Train the model"
   ]
  },
  {
   "cell_type": "code",
   "execution_count": 16,
   "metadata": {
    "scrolled": true
   },
   "outputs": [
    {
     "name": "stdout",
     "output_type": "stream",
     "text": [
      "0.1798722088650989\n",
      "0.17971521472555918\n",
      "0.17956443721062992\n",
      "0.1794196301555711\n",
      "0.1792805571432279\n",
      "0.17914699111804816\n",
      "0.179018714015383\n",
      "0.1788955164054666\n",
      "0.17877719715149384\n",
      "0.17866356308123763\n",
      "0.17855442867166801\n",
      "0.17844961574606183\n",
      "0.17834895318310456\n",
      "0.17825227663751111\n",
      "0.17815942827171044\n",
      "0.1780702564981544\n",
      "0.17798461573183014\n",
      "0.17790236615257277\n",
      "0.17782337347679036\n",
      "0.17774750873822737\n",
      "0.17767464807741026\n",
      "0.1776046725394296\n",
      "0.17753746787973018\n",
      "0.17747292437759155\n",
      "0.17741093665699353\n",
      "0.17735140351457632\n",
      "0.1772942277544115\n",
      "0.17723931602931714\n",
      "0.1771865786884553\n",
      "0.17713592963096544\n",
      "0.1770872861653927\n",
      "0.17704056887468284\n",
      "0.1769957014865236\n",
      "0.17695261074881932\n",
      "0.17691122631009717\n",
      "0.17687148060464872\n",
      "0.17683330874222009\n",
      "0.17679664840206918\n",
      "0.17676143973121938\n",
      "0.17672762524674074\n",
      "0.17669514974190179\n",
      "0.176663960196037\n",
      "0.17663400568798296\n",
      "0.17660523731294328\n",
      "0.17657760810264433\n",
      "0.17655107294865371\n",
      "0.17652558852873387\n",
      "0.1765011132361134\n",
      "0.17647760711155808\n",
      "0.17645503177813185\n",
      "0.17643335037854155\n",
      "0.176412527514962\n",
      "0.17639252919124473\n",
      "0.17637332275741432\n",
      "0.1763548768563628\n",
      "0.17633716137265543\n",
      "0.1763201473833625\n",
      "0.17630380711083932\n",
      "0.17628811387737522\n",
      "0.1762730420616382\n",
      "0.1762585670568453\n",
      "0.17624466523058824\n",
      "0.1762313138862503\n",
      "0.17621849122595148\n",
      "0.17620617631495974\n",
      "0.17619434904751313\n",
      "0.1761829901139934\n",
      "0.17617208096940123\n",
      "0.17616160380307888\n",
      "0.1761515415096314\n",
      "0.17614187766100015\n",
      "0.17613259647964172\n",
      "0.17612368281276894\n",
      "0.17611512210761193\n",
      "0.17610690038765855\n",
      "0.1760990042298361\n",
      "0.17609142074259607\n",
      "0.17608413754486701\n",
      "0.17607714274584127\n",
      "0.17607042492556052\n",
      "0.1760639731162725\n",
      "0.17605777678452342\n",
      "0.1760518258139614\n",
      "0.17604611048882005\n",
      "0.176040621478056\n",
      "0.17603534982011482\n",
      "0.17603028690829994\n",
      "0.1760254244767215\n",
      "0.17602075458680028\n",
      "0.17601626961430783\n",
      "0.17601196223691834\n",
      "0.17600782542225402\n",
      "0.17600385241640412\n",
      "0.17600003673289763\n",
      "0.17599637214211383\n",
      "0.17599285266111145\n",
      "0.17598947254386021\n",
      "0.17598622627186045\n",
      "0.17598310854513308\n",
      "0.1759801142735661\n"
     ]
    }
   ],
   "source": [
    "for i in range(100):\n",
    "    output=np.dot(inputs,weight)+baise\n",
    "    deltas=output-target\n",
    "    \n",
    "    loss=np.sum(deltas**2)/2/observation\n",
    "    \n",
    "    print(loss)\n",
    "    \n",
    "    deltas_scaled=deltas/observation\n",
    "    \n",
    "    weight=weight - learning_rate * np.dot(inputs.T,deltas_scaled)\n",
    "    baise=baise -  learning_rate * np.sum(deltas_scaled)"
   ]
  },
  {
   "cell_type": "code",
   "execution_count": null,
   "metadata": {},
   "outputs": [],
   "source": [
    "print(weight)\n",
    "print(baise)"
   ]
  },
  {
   "cell_type": "code",
   "execution_count": 2,
   "metadata": {},
   "outputs": [
    {
     "ename": "ModuleNotFoundError",
     "evalue": "No module named 'tensorflow'",
     "output_type": "error",
     "traceback": [
      "\u001b[1;31m---------------------------------------------------------------------------\u001b[0m",
      "\u001b[1;31mModuleNotFoundError\u001b[0m                       Traceback (most recent call last)",
      "\u001b[1;32m<ipython-input-2-64156d691fe5>\u001b[0m in \u001b[0;36m<module>\u001b[1;34m\u001b[0m\n\u001b[1;32m----> 1\u001b[1;33m \u001b[1;32mimport\u001b[0m \u001b[0mtensorflow\u001b[0m \u001b[1;32mas\u001b[0m \u001b[0mtf\u001b[0m\u001b[1;33m\u001b[0m\u001b[1;33m\u001b[0m\u001b[0m\n\u001b[0m",
      "\u001b[1;31mModuleNotFoundError\u001b[0m: No module named 'tensorflow'"
     ]
    }
   ],
   "source": [
    "import tensorflow as tf"
   ]
  },
  {
   "cell_type": "code",
   "execution_count": null,
   "metadata": {},
   "outputs": [],
   "source": []
  }
 ],
 "metadata": {
  "kernelspec": {
   "display_name": "Python 3",
   "language": "python",
   "name": "python3"
  },
  "language_info": {
   "codemirror_mode": {
    "name": "ipython",
    "version": 3
   },
   "file_extension": ".py",
   "mimetype": "text/x-python",
   "name": "python",
   "nbconvert_exporter": "python",
   "pygments_lexer": "ipython3",
   "version": "3.8.3"
  }
 },
 "nbformat": 4,
 "nbformat_minor": 4
}
